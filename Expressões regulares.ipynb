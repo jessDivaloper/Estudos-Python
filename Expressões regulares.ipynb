{
 "cells": [
  {
   "cell_type": "code",
   "execution_count": 1,
   "metadata": {},
   "outputs": [],
   "source": [
    "import re"
   ]
  },
  {
   "cell_type": "code",
   "execution_count": null,
   "metadata": {},
   "outputs": [],
   "source": []
  },
  {
   "cell_type": "code",
   "execution_count": 5,
   "metadata": {},
   "outputs": [],
   "source": [
    "musica = '''\n",
    "Sem culpa católica, sem energia eólica\n",
    "A morte rasga o véu, é o fel vem na retórica\n",
    "Depressão é a peste entre os meus\n",
    "Plano perfeito pra vender mais carros teus\n",
    "Perfeito\n",
    "'''"
   ]
  },
  {
   "cell_type": "code",
   "execution_count": 6,
   "metadata": {},
   "outputs": [
    {
     "name": "stdout",
     "output_type": "stream",
     "text": [
      "['energia', 'perfeito', 'teus']\n"
     ]
    }
   ],
   "source": [
    "# o . significa que pode ser qualquer caractere menos a quebra de linha\n",
    "print(re.findall(r'perfeito|energia|t..s', musica))"
   ]
  },
  {
   "cell_type": "code",
   "execution_count": 7,
   "metadata": {},
   "outputs": [
    {
     "name": "stdout",
     "output_type": "stream",
     "text": [
      "['perfeito', 'Perfeito']\n",
      "['perfeito', 'Perfeito']\n"
     ]
    }
   ],
   "source": [
    "print(re.findall(r'perfeito|Perfeito', musica))\n",
    "\n",
    "#a linha acima pode ser substituída por\n",
    "print(re.findall(r'[Pp]erfeito', musica))"
   ]
  },
  {
   "cell_type": "code",
   "execution_count": 13,
   "metadata": {},
   "outputs": [
    {
     "name": "stdout",
     "output_type": "stream",
     "text": [
      "[]\n",
      "['ica', 'ica', 'ica']\n"
     ]
    }
   ],
   "source": [
    "#o primeiro caractere poderia ser qualquer um dos indicados\n",
    "print(re.findall(r'[Pplkjsadhmsdfojd]ia', musica))\n",
    "\n",
    "#o primeiro caractere pode ser preenchido de a até z\n",
    "print(re.findall(r'[a-z]ca', musica))"
   ]
  },
  {
   "cell_type": "markdown",
   "metadata": {},
   "source": [
    "Flags"
   ]
  },
  {
   "cell_type": "code",
   "execution_count": 16,
   "metadata": {},
   "outputs": [
    {
     "name": "stdout",
     "output_type": "stream",
     "text": [
      "['perfeito', 'Perfeito']\n"
     ]
    }
   ],
   "source": [
    "#não diferenciar letras minusculas e maiusculas\n",
    "print(re.findall(r'PerfEitO', musica, flags=re.I))"
   ]
  },
  {
   "cell_type": "code",
   "execution_count": 15,
   "metadata": {},
   "outputs": [
    {
     "name": "stdout",
     "output_type": "stream",
     "text": [
      "['ica', 'gia', 'ica', 'ica']\n"
     ]
    }
   ],
   "source": [
    "print(re.findall(r'[a-zA-Z0-9]ca|[a-zA-Z0-9]ia', musica))"
   ]
  },
  {
   "cell_type": "code",
   "execution_count": null,
   "metadata": {},
   "outputs": [],
   "source": []
  }
 ],
 "metadata": {
  "kernelspec": {
   "display_name": "Python 3",
   "language": "python",
   "name": "python3"
  },
  "language_info": {
   "codemirror_mode": {
    "name": "ipython",
    "version": 3
   },
   "file_extension": ".py",
   "mimetype": "text/x-python",
   "name": "python",
   "nbconvert_exporter": "python",
   "pygments_lexer": "ipython3",
   "version": "3.7.7"
  }
 },
 "nbformat": 4,
 "nbformat_minor": 4
}
